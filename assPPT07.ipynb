{
  "nbformat": 4,
  "nbformat_minor": 0,
  "metadata": {
    "colab": {
      "provenance": [],
      "authorship_tag": "ABX9TyOgU+/i4YPgBGvL8D/fm2md",
      "include_colab_link": true
    },
    "kernelspec": {
      "name": "python3",
      "display_name": "Python 3"
    },
    "language_info": {
      "name": "python"
    }
  },
  "cells": [
    {
      "cell_type": "markdown",
      "metadata": {
        "id": "view-in-github",
        "colab_type": "text"
      },
      "source": [
        "<a href=\"https://colab.research.google.com/github/Bhushanindra/pwassignment/blob/main/assPPT07.ipynb\" target=\"_parent\"><img src=\"https://colab.research.google.com/assets/colab-badge.svg\" alt=\"Open In Colab\"/></a>"
      ]
    },
    {
      "cell_type": "markdown",
      "source": [
        "\n",
        "\n",
        "Given two strings s and t, *determine if they are isomorphic*.\n",
        "\n",
        "Two strings s and t are isomorphic if the characters in s can be replaced to get t.\n",
        "\n",
        "All occurrences of a character must be replaced with another character while preserving the order of characters. No two characters may map to the same character, but a character may map to itself.\n",
        "\n",
        "**Example 1:**\n",
        "\n",
        "**Input:** s = \"egg\", t = \"add\"\n",
        "\n",
        "**Output:** true"
      ],
      "metadata": {
        "id": "zWalqa8L1wDR"
      }
    },
    {
      "cell_type": "code",
      "source": [
        "def isomorphic_strings(s, t):\n",
        "    if len(s) != len(t):\n",
        "        return False\n",
        "    s_to_t = {}\n",
        "    t_to_s = {}\n",
        "    for s_char, t_char in zip(s, t):\n",
        "        if s_char in s_to_t and s_to_t[s_char] != t_char:\n",
        "            return False\n",
        "        if t_char in t_to_s and t_to_s[t_char] != s_char:\n",
        "            return False\n",
        "        s_to_t[s_char] = t_char\n",
        "        t_to_s[t_char] = s_char\n",
        "    return True\n",
        "s = \"egg\"\n",
        "t = \"add\"\n",
        "print(isomorphic_strings(s, t))\n"
      ],
      "metadata": {
        "id": "qZCcu28y1z8D"
      },
      "execution_count": null,
      "outputs": []
    },
    {
      "cell_type": "markdown",
      "source": [
        "Given a string num which represents an integer, return true *if* num *is a **strobogrammatic number***.\n",
        "\n",
        "A **strobogrammatic number** is a number that looks the same when rotated 180 degrees (looked at upside down).\n",
        "\n",
        "**Example 1:**\n",
        "\n",
        "**Input:** num = \"69\"\n",
        "\n",
        "**Output:**\n",
        "\n",
        "true"
      ],
      "metadata": {
        "id": "BR6nVAWx3pvo"
      }
    },
    {
      "cell_type": "code",
      "source": [
        "def is_strobogrammatic(num):\n",
        "    strobogrammatic_dict = {\n",
        "        '0': '0',\n",
        "        '1': '1',\n",
        "        '6': '9',\n",
        "        '8': '8',\n",
        "        '9': '6'\n",
        "    }\n",
        "    left, right = 0, len(num) - 1\n",
        "    while left <= right:\n",
        "        if num[left] not in strobogrammatic_dict or num[right] not in strobogrammatic_dict:\n",
        "            return False\n",
        "        if strobogrammatic_dict[num[left]] != num[right]:\n",
        "            return False\n",
        "        left += 1\n",
        "        right -= 1\n",
        "    return True\n",
        "num = \"69\"\n",
        "print(is_strobogrammatic(num))\n"
      ],
      "metadata": {
        "id": "1faeT6z23u56"
      },
      "execution_count": null,
      "outputs": []
    },
    {
      "cell_type": "markdown",
      "source": [
        "Given two non-negative integers, num1 and num2 represented as string, return *the sum of* num1 *and* num2 *as a string*.\n",
        "\n",
        "You must solve the problem without using any built-in library for handling large integers (such as BigInteger). You must also not convert the inputs to integers directly.\n",
        "\n",
        "**Example 1:**\n",
        "\n",
        "**Input:** num1 = \"11\", num2 = \"123\"\n",
        "\n",
        "**Output:**\n",
        "\n",
        "\"134\""
      ],
      "metadata": {
        "id": "Tu1TL68C3ywD"
      }
    },
    {
      "cell_type": "code",
      "source": [
        "def add_strings(num1, num2):\n",
        "    i = len(num1) - 1\n",
        "    j = len(num2) - 1\n",
        "    carry = 0\n",
        "    result = \"\"\n",
        "    while i >= 0 or j >= 0 or carry != 0:\n",
        "        x = int(num1[i]) if i >= 0 else 0\n",
        "        y = int(num2[j]) if j >= 0 else 0\n",
        "        s = x + y + carry\n",
        "        result = str(s % 10) + result\n",
        "        carry = s // 10\n",
        "        i -= 1\n",
        "        j -= 1\n",
        "    return result\n",
        "num1 = \"11\"\n",
        "num2 = \"123\"\n",
        "print(add_strings(num1, num2))\n"
      ],
      "metadata": {
        "id": "r9kBLbkh355u"
      },
      "execution_count": null,
      "outputs": []
    },
    {
      "cell_type": "markdown",
      "source": [
        "Given a string s, reverse the order of characters in each word within a sentence while still preserving whitespace and initial word order.\n",
        "\n",
        "**Example 1:**\n",
        "\n",
        "**Input:** s = \"Let's take LeetCode contest\"\n",
        "\n",
        "**Output:** \"s'teL ekat edoCteeL tsetnoc\""
      ],
      "metadata": {
        "id": "W2OyXQV64KLl"
      }
    },
    {
      "cell_type": "code",
      "source": [
        "def reverse_words(s):\n",
        "    words = s.split()\n",
        "    reversed_words = [word[::-1] for word in words]\n",
        "    result = ' '.join(reversed_words)\n",
        "    return result\n",
        "s = \"Let's take LeetCode contest\"\n",
        "print(reverse_words(s))\n"
      ],
      "metadata": {
        "id": "qdytyGzg4fqz"
      },
      "execution_count": null,
      "outputs": []
    },
    {
      "cell_type": "markdown",
      "source": [
        "Given a string s and an integer k, reverse the first k characters for every 2k characters counting from the start of the string.\n",
        "\n",
        "If there are fewer than k characters left, reverse all of them. If there are less than 2k but greater than or equal to k characters, then reverse the first k characters and leave the other as original.\n",
        "\n",
        "**Example 1:**\n",
        "\n",
        "**Input:** s = \"abcdefg\", k = 2\n",
        "\n",
        "**Output:**\n",
        "\n",
        "\"bacdfeg\""
      ],
      "metadata": {
        "id": "B4mfMWnI4m1o"
      }
    },
    {
      "cell_type": "code",
      "source": [
        "def reverse_string(s, k):\n",
        "    s = list(s)\n",
        "    n = len(s)\n",
        "    start = 0\n",
        "    while start < n:\n",
        "        end = min(start + k - 1, n - 1)\n",
        "        i = start\n",
        "        while i < end:\n",
        "            s[i], s[end] = s[end], s[i]\n",
        "            i += 1\n",
        "            end -= 1\n",
        "        start += 2 * k\n",
        "    return ''.join(s)\n",
        "s = \"abcdefg\"\n",
        "k = 2\n",
        "print(reverse_string(s, k))\n"
      ],
      "metadata": {
        "id": "cPrzPQMB4tXU"
      },
      "execution_count": null,
      "outputs": []
    },
    {
      "cell_type": "markdown",
      "source": [
        "Given two strings s and goal, return true *if and only if* s *can become* goal *after some number of **shifts** on* s.\n",
        "\n",
        "A **shift** on s consists of moving the leftmost character of s to the rightmost position.\n",
        "\n",
        "- For example, if s = \"abcde\", then it will be \"bcdea\" after one shift.\n",
        "\n",
        "**Example 1:**\n",
        "\n",
        "**Input:** s = \"abcde\", goal = \"cdeab\"\n",
        "\n",
        "**Output:**\n",
        "\n",
        "true"
      ],
      "metadata": {
        "id": "xbFzBSE647wY"
      }
    },
    {
      "cell_type": "code",
      "source": [
        "def can_shift_to_goal(s, goal):\n",
        "    if len(s) != len(goal):\n",
        "        return False\n",
        "    new_s = s + s\n",
        "    if goal in new_s:\n",
        "        return True\n",
        "    else:\n",
        "        return False\n",
        "s = \"abcde\"\n",
        "goal = \"cdeab\"\n",
        "print(can_shift_to_goal(s, goal))\n"
      ],
      "metadata": {
        "id": "rJeV7AeD5Etu"
      },
      "execution_count": null,
      "outputs": []
    },
    {
      "cell_type": "markdown",
      "source": [
        "Given two strings s and t, return true *if they are equal when both are typed into empty text editors*. '#' means a backspace character.\n",
        "\n",
        "Note that after backspacing an empty text, the text will continue empty.\n",
        "\n",
        "**Example 1:**\n",
        "\n",
        "**Input:** s = \"ab#c\", t = \"ad#c\"\n",
        "\n",
        "**Output:** true\n",
        "\n",
        "**Explanation:**\n",
        "\n",
        "Both s and t become \"ac\"."
      ],
      "metadata": {
        "id": "WgtVSNEE5Rbx"
      }
    },
    {
      "cell_type": "code",
      "source": [
        "def process_string(string):\n",
        "    stack = []\n",
        "    for ch in string:\n",
        "        if ch != '#':\n",
        "            stack.append(ch)\n",
        "        elif stack:\n",
        "            stack.pop()\n",
        "    return ''.join(stack)\n",
        "def backspace_compare(s, t):\n",
        "    processed_s = process_string(s)\n",
        "    processed_t = process_string(t)\n",
        "    return processed_s == processed_t\n",
        "s = \"ab#c\"\n",
        "t = \"ad#c\"\n",
        "print(backspace_compare(s, t))\n"
      ],
      "metadata": {
        "id": "v9XyS-Oo5Sd7"
      },
      "execution_count": null,
      "outputs": []
    },
    {
      "cell_type": "markdown",
      "source": [],
      "metadata": {
        "id": "MsuqlGMX3Rly"
      }
    }
  ]
}