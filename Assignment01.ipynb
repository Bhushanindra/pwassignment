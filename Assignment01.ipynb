{
  "nbformat": 4,
  "nbformat_minor": 0,
  "metadata": {
    "colab": {
      "provenance": [],
      "authorship_tag": "ABX9TyPm2Wm2l1yOqI4OnNXZgmg/",
      "include_colab_link": true
    },
    "kernelspec": {
      "name": "python3",
      "display_name": "Python 3"
    },
    "language_info": {
      "name": "python"
    }
  },
  "cells": [
    {
      "cell_type": "markdown",
      "metadata": {
        "id": "view-in-github",
        "colab_type": "text"
      },
      "source": [
        "<a href=\"https://colab.research.google.com/github/Bhushanindra/pwassignment/blob/main/Assignment01.ipynb\" target=\"_parent\"><img src=\"https://colab.research.google.com/assets/colab-badge.svg\" alt=\"Open In Colab\"/></a>"
      ]
    },
    {
      "cell_type": "markdown",
      "source": [],
      "metadata": {
        "id": "3NsM6E24Ak0z"
      }
    },
    {
      "cell_type": "markdown",
      "source": [
        "Q1. Create one variable containing following type of data:\n",
        "(i) string\n",
        "(ii) list\n",
        "(iii) float\n",
        "(iv) tuple"
      ],
      "metadata": {
        "id": "O1iEkVe56ZK_"
      }
    },
    {
      "cell_type": "markdown",
      "source": [
        "ANS:-(i) my_string = \"Hello, world!\"\n",
        "(ii) my_list = [1, 2, 3, 4, 5]\n",
        "(iii) my_float = 3.14\n",
        "(iv) my_tuple = (1, 2, 3, 4, 5)\n"
      ],
      "metadata": {
        "id": "L3LPYuly6qw1"
      }
    },
    {
      "cell_type": "markdown",
      "source": [
        "Q2. Given are some following variables containing data:\n",
        "(i) var1 = ‘ ‘\n",
        "(ii) var2 = ‘[ DS , ML , Python]’\n",
        "(iii) var3 = [ ‘DS’ , ’ML’ , ‘Python’ ]\n",
        "(iv) var4 = 1.\n",
        "What will be the data type of the above given variable."
      ],
      "metadata": {
        "id": "WI7R9SUV7TVL"
      }
    },
    {
      "cell_type": "markdown",
      "source": [
        "ANS:- (i)  var1 is a string variable.\n",
        "\n",
        "(ii) var2 is also a string variable.\n",
        "\n",
        "(iii) var3 is a list variable.\n",
        "\n",
        "(iv) var4 is a float variable."
      ],
      "metadata": {
        "id": "50UbgUQv7iUa"
      }
    },
    {
      "cell_type": "markdown",
      "source": [
        "Q3. Explain the use of the following operators using an example:\n",
        "(i) /\n",
        "(ii) %\n",
        "(iii) //\n",
        "(iv) **"
      ],
      "metadata": {
        "id": "h5rpWuVg8ij2"
      }
    },
    {
      "cell_type": "markdown",
      "source": [
        "ANS:-(i) The '/' operator is the division operator in Python. It performs division and returns the quotient as a float.\n",
        "#Example:-\n",
        "a = 10\n",
        "\n",
        "b = 3\n",
        "\n",
        "result = a / b\n",
        "\n",
        "print(result)\n",
        "\n",
        "output:-  3.33\n",
        "\n",
        "(ii) The '%' operator is the modulus operator in Python. It performs division and returns the remainder.\n",
        "#Example:-\n",
        "a = 10\n",
        "\n",
        "b = 3\n",
        "\n",
        "result = a % b\n",
        "\n",
        "print(result)  \n",
        "\n",
        " Output:- 1\n",
        "\n",
        "(iii) The '//' operator is the floor division operator in Python. It performs division and returns the quotient as an integer, discarding the fractional part.\n",
        "#Example:-\n",
        "a = 10\n",
        "\n",
        "b = 3\n",
        "\n",
        "result = a // b\n",
        "\n",
        "print(result)\n",
        "\n",
        " Output: 3\n",
        "\n",
        "(iv) The '**' operator is the exponentiation operator in Python. It raises the left operand to the power of the right operand.\n",
        "#Example:-\n",
        "a = 2\n",
        "\n",
        "b = 3\n",
        "\n",
        "result = a ** b\n",
        "\n",
        "print(result)\n",
        "\n",
        "Output: 8\n",
        "\n",
        "\n"
      ],
      "metadata": {
        "id": "0VIXXSGM8pWQ"
      }
    },
    {
      "cell_type": "markdown",
      "source": [
        "Q4. Create a list of length 10 of your choice containing multiple types of data. Using for loop print the\n",
        "element and its data type."
      ],
      "metadata": {
        "id": "wkyx3D1j-YFn"
      }
    },
    {
      "cell_type": "code",
      "source": [
        "my_list = [1, \"hello\", 3.14, True, [1, 2, 3], \"world\", False, 10, (\"apple\", \"banana\"), {\"name\": \"John\", \"age\": 25}]\n",
        "\n",
        "for element in my_list:\n",
        "    print(\"Element:\", element)\n",
        "    print(\"Data Type:\", type(element))\n",
        "    print()\n"
      ],
      "metadata": {
        "colab": {
          "base_uri": "https://localhost:8080/"
        },
        "id": "ooeImBrJ-xdg",
        "outputId": "86b9de90-2d81-4e92-aaa3-c16e08641f81"
      },
      "execution_count": null,
      "outputs": [
        {
          "output_type": "stream",
          "name": "stdout",
          "text": [
            "Element: 1\n",
            "Data Type: <class 'int'>\n",
            "\n",
            "Element: hello\n",
            "Data Type: <class 'str'>\n",
            "\n",
            "Element: 3.14\n",
            "Data Type: <class 'float'>\n",
            "\n",
            "Element: True\n",
            "Data Type: <class 'bool'>\n",
            "\n",
            "Element: [1, 2, 3]\n",
            "Data Type: <class 'list'>\n",
            "\n",
            "Element: world\n",
            "Data Type: <class 'str'>\n",
            "\n",
            "Element: False\n",
            "Data Type: <class 'bool'>\n",
            "\n",
            "Element: 10\n",
            "Data Type: <class 'int'>\n",
            "\n",
            "Element: ('apple', 'banana')\n",
            "Data Type: <class 'tuple'>\n",
            "\n",
            "Element: {'name': 'John', 'age': 25}\n",
            "Data Type: <class 'dict'>\n",
            "\n"
          ]
        }
      ]
    },
    {
      "cell_type": "markdown",
      "source": [
        "Q5. Using a while loop, verify if the number A is purely divisible by number B and if so then how many\n",
        "times it can be divisible."
      ],
      "metadata": {
        "id": "OOSDJ0Ns-5gL"
      }
    },
    {
      "cell_type": "code",
      "source": [
        "A = 100\n",
        "B = 7\n",
        "\n",
        "count = 0\n",
        "\n",
        "while A % B == 0:\n",
        "    A = A // B\n",
        "    count += 1\n",
        "\n",
        "if count > 0:\n",
        "    print(f\"A is divisible by B, and it can be divided {count} times.\")\n",
        "else:\n",
        "    print(\"A is not divisible by B.\")\n"
      ],
      "metadata": {
        "colab": {
          "base_uri": "https://localhost:8080/"
        },
        "id": "bBTBypaL_Fwj",
        "outputId": "bcf7db17-4deb-4050-e87e-1d6afd184a72"
      },
      "execution_count": null,
      "outputs": [
        {
          "output_type": "stream",
          "name": "stdout",
          "text": [
            "A is not divisible by B.\n"
          ]
        }
      ]
    },
    {
      "cell_type": "markdown",
      "source": [
        "Q6. Create a list containing 25 int type data. Using for loop and if-else condition print if the element is\n",
        "divisible by 3 or not."
      ],
      "metadata": {
        "id": "NFp3UuW9_S2C"
      }
    },
    {
      "cell_type": "code",
      "source": [
        "my_list = [2, 9, 15, 4, 27, 8, 12, 21, 6, 18, 10, 13, 30, 1, 7, 5, 11, 16, 19, 24, 3, 14, 23, 20, 17]\n",
        "\n",
        "for element in my_list:\n",
        "    if element % 3 == 0:\n",
        "        print(f\"{element} is divisible by 3.\")\n",
        "    else:\n",
        "        print(f\"{element} is not divisible by 3.\")\n"
      ],
      "metadata": {
        "colab": {
          "base_uri": "https://localhost:8080/"
        },
        "id": "ZZTYnrCQ-81r",
        "outputId": "43241996-4808-4f5d-e262-c5b9f77f49ea"
      },
      "execution_count": null,
      "outputs": [
        {
          "output_type": "stream",
          "name": "stdout",
          "text": [
            "2 is not divisible by 3.\n",
            "9 is divisible by 3.\n",
            "15 is divisible by 3.\n",
            "4 is not divisible by 3.\n",
            "27 is divisible by 3.\n",
            "8 is not divisible by 3.\n",
            "12 is divisible by 3.\n",
            "21 is divisible by 3.\n",
            "6 is divisible by 3.\n",
            "18 is divisible by 3.\n",
            "10 is not divisible by 3.\n",
            "13 is not divisible by 3.\n",
            "30 is divisible by 3.\n",
            "1 is not divisible by 3.\n",
            "7 is not divisible by 3.\n",
            "5 is not divisible by 3.\n",
            "11 is not divisible by 3.\n",
            "16 is not divisible by 3.\n",
            "19 is not divisible by 3.\n",
            "24 is divisible by 3.\n",
            "3 is divisible by 3.\n",
            "14 is not divisible by 3.\n",
            "23 is not divisible by 3.\n",
            "20 is not divisible by 3.\n",
            "17 is not divisible by 3.\n"
          ]
        }
      ]
    },
    {
      "cell_type": "markdown",
      "source": [
        "Q7. What do you understand about mutable and immutable data types? Give examples for both showing\n",
        "this property."
      ],
      "metadata": {
        "id": "KcarEsHj_i-Q"
      }
    },
    {
      "cell_type": "code",
      "source": [],
      "metadata": {
        "id": "-n5IlESc_b47"
      },
      "execution_count": null,
      "outputs": []
    }
  ]
}